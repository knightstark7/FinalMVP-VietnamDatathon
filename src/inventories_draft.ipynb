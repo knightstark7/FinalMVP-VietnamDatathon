{
 "cells": [
  {
   "cell_type": "code",
   "execution_count": 1,
   "metadata": {},
   "outputs": [],
   "source": [
    "import pandas as pd\n",
    "import numpy as np\n",
    "import matplotlib.pyplot as plt"
   ]
  },
  {
   "cell_type": "code",
   "execution_count": 2,
   "metadata": {},
   "outputs": [],
   "source": [
    "with open('../clean_data/inventories.csv') as file:\n",
    "    inventories_df = pd.read_csv(file)"
   ]
  },
  {
   "cell_type": "code",
   "execution_count": 3,
   "metadata": {},
   "outputs": [],
   "source": [
    "inventories_df.drop(columns=['Unnamed: 0'], inplace=True)"
   ]
  },
  {
   "cell_type": "code",
   "execution_count": 4,
   "metadata": {},
   "outputs": [
    {
     "data": {
      "text/plain": [
       "0"
      ]
     },
     "execution_count": 4,
     "metadata": {},
     "output_type": "execute_result"
    }
   ],
   "source": [
    "inventories_df.duplicated().sum()"
   ]
  },
  {
   "cell_type": "code",
   "execution_count": 5,
   "metadata": {},
   "outputs": [
    {
     "name": "stdout",
     "output_type": "stream",
     "text": [
      "<class 'pandas.core.frame.DataFrame'>\n",
      "RangeIndex: 4008723 entries, 0 to 4008722\n",
      "Data columns (total 7 columns):\n",
      " #   Column              Dtype  \n",
      "---  ------              -----  \n",
      " 0   plant               int64  \n",
      " 1   calendar_year       int64  \n",
      " 2   calendar_yeer_week  int64  \n",
      " 3   sloc                object \n",
      " 4   quantity            int64  \n",
      " 5   total_amount        float64\n",
      " 6   product_id          object \n",
      "dtypes: float64(1), int64(4), object(2)\n",
      "memory usage: 214.1+ MB\n"
     ]
    }
   ],
   "source": [
    "inventories_df.info()"
   ]
  },
  {
   "cell_type": "code",
   "execution_count": 6,
   "metadata": {},
   "outputs": [],
   "source": [
    "inventories_df['calendar_yeer_week'] = inventories_df['calendar_yeer_week'].astype(str)\n",
    "inventories_df['calendar_yeer_week'] = inventories_df['calendar_yeer_week'].str[4:6]\n",
    "inventories_df['calendar_yeer_week'] = inventories_df['calendar_yeer_week'].astype(np.int64)\n",
    "inventories_df = inventories_df.rename(columns={'calendar_yeer_week': 'month', 'calendar_year': 'year'})\n",
    "\n",
    "inventories_df['total_amount'] = inventories_df['total_amount'].astype(np.int64)"
   ]
  },
  {
   "cell_type": "code",
   "execution_count": 7,
   "metadata": {},
   "outputs": [
    {
     "data": {
      "text/plain": [
       "38729"
      ]
     },
     "execution_count": 7,
     "metadata": {},
     "output_type": "execute_result"
    }
   ],
   "source": [
    "values, counts = np.unique(inventories_df['product_id'], return_counts=True)\n",
    "len(values)"
   ]
  },
  {
   "cell_type": "code",
   "execution_count": 8,
   "metadata": {},
   "outputs": [
    {
     "data": {
      "text/html": [
       "<div>\n",
       "<style scoped>\n",
       "    .dataframe tbody tr th:only-of-type {\n",
       "        vertical-align: middle;\n",
       "    }\n",
       "\n",
       "    .dataframe tbody tr th {\n",
       "        vertical-align: top;\n",
       "    }\n",
       "\n",
       "    .dataframe thead th {\n",
       "        text-align: right;\n",
       "    }\n",
       "</style>\n",
       "<table border=\"1\" class=\"dataframe\">\n",
       "  <thead>\n",
       "    <tr style=\"text-align: right;\">\n",
       "      <th></th>\n",
       "      <th>plant</th>\n",
       "      <th>year</th>\n",
       "      <th>month</th>\n",
       "      <th>sloc</th>\n",
       "      <th>quantity</th>\n",
       "      <th>total_amount</th>\n",
       "      <th>product_id</th>\n",
       "    </tr>\n",
       "  </thead>\n",
       "  <tbody>\n",
       "    <tr>\n",
       "      <th>0</th>\n",
       "      <td>1101</td>\n",
       "      <td>2022</td>\n",
       "      <td>2</td>\n",
       "      <td>3000</td>\n",
       "      <td>17</td>\n",
       "      <td>17000</td>\n",
       "      <td>1259098aaa8e447181f13903f84e5db1OOO35</td>\n",
       "    </tr>\n",
       "    <tr>\n",
       "      <th>1</th>\n",
       "      <td>1101</td>\n",
       "      <td>2022</td>\n",
       "      <td>2</td>\n",
       "      <td>3000</td>\n",
       "      <td>48</td>\n",
       "      <td>34000</td>\n",
       "      <td>39b38616e4d649ab9c3b7d04e82e079fOOO36</td>\n",
       "    </tr>\n",
       "    <tr>\n",
       "      <th>2</th>\n",
       "      <td>1101</td>\n",
       "      <td>2022</td>\n",
       "      <td>2</td>\n",
       "      <td>3000</td>\n",
       "      <td>87</td>\n",
       "      <td>0</td>\n",
       "      <td>8db14e88898e40a392f80ed69c30e206OOO37</td>\n",
       "    </tr>\n",
       "    <tr>\n",
       "      <th>3</th>\n",
       "      <td>1101</td>\n",
       "      <td>2022</td>\n",
       "      <td>2</td>\n",
       "      <td>3000</td>\n",
       "      <td>80</td>\n",
       "      <td>-34000</td>\n",
       "      <td>7c15de90afd343338f93c8f65a0d8380OOO38</td>\n",
       "    </tr>\n",
       "    <tr>\n",
       "      <th>4</th>\n",
       "      <td>1101</td>\n",
       "      <td>2022</td>\n",
       "      <td>2</td>\n",
       "      <td>3000</td>\n",
       "      <td>128</td>\n",
       "      <td>68000</td>\n",
       "      <td>6c04a173aec34690b242ed4e09367e96OOO39</td>\n",
       "    </tr>\n",
       "    <tr>\n",
       "      <th>...</th>\n",
       "      <td>...</td>\n",
       "      <td>...</td>\n",
       "      <td>...</td>\n",
       "      <td>...</td>\n",
       "      <td>...</td>\n",
       "      <td>...</td>\n",
       "      <td>...</td>\n",
       "    </tr>\n",
       "    <tr>\n",
       "      <th>4008718</th>\n",
       "      <td>2001</td>\n",
       "      <td>2022</td>\n",
       "      <td>12</td>\n",
       "      <td>3000</td>\n",
       "      <td>1</td>\n",
       "      <td>0</td>\n",
       "      <td>52de17c640cc4085a863cf9d18ddeb6fNAU35</td>\n",
       "    </tr>\n",
       "    <tr>\n",
       "      <th>4008719</th>\n",
       "      <td>2001</td>\n",
       "      <td>2022</td>\n",
       "      <td>12</td>\n",
       "      <td>3000</td>\n",
       "      <td>1</td>\n",
       "      <td>0</td>\n",
       "      <td>267a3bb60d1d4fe8bfeb53107482914fNAU36</td>\n",
       "    </tr>\n",
       "    <tr>\n",
       "      <th>4008720</th>\n",
       "      <td>2001</td>\n",
       "      <td>2022</td>\n",
       "      <td>12</td>\n",
       "      <td>3000</td>\n",
       "      <td>2</td>\n",
       "      <td>0</td>\n",
       "      <td>8aab639678b84044a99fa92cab5203aaNAU37</td>\n",
       "    </tr>\n",
       "    <tr>\n",
       "      <th>4008721</th>\n",
       "      <td>2001</td>\n",
       "      <td>2022</td>\n",
       "      <td>12</td>\n",
       "      <td>3000</td>\n",
       "      <td>2</td>\n",
       "      <td>0</td>\n",
       "      <td>f9bfb859e6c846a086ed6985ba6b7c74NAU38</td>\n",
       "    </tr>\n",
       "    <tr>\n",
       "      <th>4008722</th>\n",
       "      <td>2001</td>\n",
       "      <td>2022</td>\n",
       "      <td>12</td>\n",
       "      <td>3000</td>\n",
       "      <td>2</td>\n",
       "      <td>0</td>\n",
       "      <td>b1ac885eaec74de0b52cee589bde4f98NAU39</td>\n",
       "    </tr>\n",
       "  </tbody>\n",
       "</table>\n",
       "<p>4008723 rows × 7 columns</p>\n",
       "</div>"
      ],
      "text/plain": [
       "         plant  year  month  sloc  quantity  total_amount   \n",
       "0         1101  2022      2  3000        17         17000  \\\n",
       "1         1101  2022      2  3000        48         34000   \n",
       "2         1101  2022      2  3000        87             0   \n",
       "3         1101  2022      2  3000        80        -34000   \n",
       "4         1101  2022      2  3000       128         68000   \n",
       "...        ...   ...    ...   ...       ...           ...   \n",
       "4008718   2001  2022     12  3000         1             0   \n",
       "4008719   2001  2022     12  3000         1             0   \n",
       "4008720   2001  2022     12  3000         2             0   \n",
       "4008721   2001  2022     12  3000         2             0   \n",
       "4008722   2001  2022     12  3000         2             0   \n",
       "\n",
       "                                    product_id  \n",
       "0        1259098aaa8e447181f13903f84e5db1OOO35  \n",
       "1        39b38616e4d649ab9c3b7d04e82e079fOOO36  \n",
       "2        8db14e88898e40a392f80ed69c30e206OOO37  \n",
       "3        7c15de90afd343338f93c8f65a0d8380OOO38  \n",
       "4        6c04a173aec34690b242ed4e09367e96OOO39  \n",
       "...                                        ...  \n",
       "4008718  52de17c640cc4085a863cf9d18ddeb6fNAU35  \n",
       "4008719  267a3bb60d1d4fe8bfeb53107482914fNAU36  \n",
       "4008720  8aab639678b84044a99fa92cab5203aaNAU37  \n",
       "4008721  f9bfb859e6c846a086ed6985ba6b7c74NAU38  \n",
       "4008722  b1ac885eaec74de0b52cee589bde4f98NAU39  \n",
       "\n",
       "[4008723 rows x 7 columns]"
      ]
     },
     "execution_count": 8,
     "metadata": {},
     "output_type": "execute_result"
    }
   ],
   "source": [
    "inventories_df"
   ]
  },
  {
   "cell_type": "code",
   "execution_count": 9,
   "metadata": {},
   "outputs": [
    {
     "data": {
      "image/png": "[encoded data removed]",
      "text/plain": [
       "<Figure size 640x480 with 1 Axes>"
      ]
     },
     "metadata": {},
     "output_type": "display_data"
    }
   ],
   "source": [
    "inventories_df.groupby(['year', 'month'])['quantity'].sum().plot(kind='bar')\n",
    "plt.show()"
   ]
  },
  {
   "cell_type": "code",
   "execution_count": 10,
   "metadata": {},
   "outputs": [
    {
     "data": {
      "image/png": "[encoded data removed]",
      "text/plain": [
       "<Figure size 640x480 with 1 Axes>"
      ]
     },
     "metadata": {},
     "output_type": "display_data"
    }
   ],
   "source": [
    "inventories_df.groupby(['year', 'month'])['total_amount'].sum().plot(kind='bar')\n",
    "plt.xlabel('Year, Month')\n",
    "plt.xticks(rotation=90)\n",
    "plt.ylabel('Total Amount')\n",
    "plt.title('Total Amount per Year, Month')\n",
    "plt.show()"
   ]
  },
  {
   "cell_type": "code",
   "execution_count": 11,
   "metadata": {},
   "outputs": [],
   "source": [
    "# %pip install xlrd openpyxl\n",
    "product_master = pd.read_excel('../data/MasterData/Productmaster.xlsx')"
   ]
  },
  {
   "cell_type": "code",
   "execution_count": 12,
   "metadata": {},
   "outputs": [
    {
     "name": "stdout",
     "output_type": "stream",
     "text": [
      "<class 'pandas.core.frame.DataFrame'>\n",
      "RangeIndex: 94867 entries, 0 to 94866\n",
      "Data columns (total 32 columns):\n",
      " #   Column                Non-Null Count  Dtype  \n",
      "---  ------                --------------  -----  \n",
      " 0   Unnamed: 0            94867 non-null  int64  \n",
      " 1   index                 94867 non-null  int64  \n",
      " 2   color                 94822 non-null  object \n",
      " 3   color_group           94867 non-null  object \n",
      " 4   listing_price         94840 non-null  float64\n",
      " 5   price_group           94840 non-null  object \n",
      " 6   gender                94867 non-null  object \n",
      " 7   product_group         94867 non-null  object \n",
      " 8   detail_product_group  94867 non-null  object \n",
      " 9   shoe_product          94867 non-null  object \n",
      " 10  size_group            94867 non-null  object \n",
      " 11  size                  94722 non-null  float64\n",
      " 12  age_group             94867 non-null  object \n",
      " 13  activity_group        94867 non-null  object \n",
      " 14  collection            94862 non-null  object \n",
      " 15  image_copyright       94867 non-null  object \n",
      " 16  product_line          94867 non-null  object \n",
      " 17  lifestyle_group       94688 non-null  object \n",
      " 18  launch_season         94867 non-null  object \n",
      " 19  mold_code             31209 non-null  object \n",
      " 20  heel_height           84610 non-null  object \n",
      " 21  mc_description        94867 non-null  object \n",
      " 22  name_description      94867 non-null  object \n",
      " 23  mch_description       94867 non-null  object \n",
      " 24  code_lock             33201 non-null  object \n",
      " 25  option                94867 non-null  object \n",
      " 26  cost_price            94632 non-null  float64\n",
      " 27  product_id            94867 non-null  object \n",
      " 28  product_syle_color    94867 non-null  object \n",
      " 29  product_syle          94867 non-null  object \n",
      " 30  brand_name            94867 non-null  object \n",
      " 31  vendor_name           89444 non-null  object \n",
      "dtypes: float64(3), int64(2), object(27)\n",
      "memory usage: 23.2+ MB\n"
     ]
    }
   ],
   "source": [
    "product_master.info()"
   ]
  },
  {
   "cell_type": "code",
   "execution_count": 13,
   "metadata": {},
   "outputs": [
    {
     "data": {
      "text/plain": [
       "(94867, 2)"
      ]
     },
     "execution_count": 13,
     "metadata": {},
     "output_type": "execute_result"
    }
   ],
   "source": [
    "product_group_id = product_master[['product_group', 'product_id']]\n",
    "product_group_id.shape"
   ]
  },
  {
   "cell_type": "code",
   "execution_count": 14,
   "metadata": {},
   "outputs": [
    {
     "data": {
      "text/html": [
       "<div>\n",
       "<style scoped>\n",
       "    .dataframe tbody tr th:only-of-type {\n",
       "        vertical-align: middle;\n",
       "    }\n",
       "\n",
       "    .dataframe tbody tr th {\n",
       "        vertical-align: top;\n",
       "    }\n",
       "\n",
       "    .dataframe thead th {\n",
       "        text-align: right;\n",
       "    }\n",
       "</style>\n",
       "<table border=\"1\" class=\"dataframe\">\n",
       "  <thead>\n",
       "    <tr style=\"text-align: right;\">\n",
       "      <th></th>\n",
       "      <th>plant</th>\n",
       "      <th>year</th>\n",
       "      <th>month</th>\n",
       "      <th>sloc</th>\n",
       "      <th>quantity</th>\n",
       "      <th>total_amount</th>\n",
       "      <th>product_id</th>\n",
       "      <th>product_group</th>\n",
       "    </tr>\n",
       "  </thead>\n",
       "  <tbody>\n",
       "    <tr>\n",
       "      <th>0</th>\n",
       "      <td>1101</td>\n",
       "      <td>2022</td>\n",
       "      <td>2</td>\n",
       "      <td>3000</td>\n",
       "      <td>17</td>\n",
       "      <td>17000</td>\n",
       "      <td>1259098aaa8e447181f13903f84e5db1OOO35</td>\n",
       "      <td>PKI</td>\n",
       "    </tr>\n",
       "    <tr>\n",
       "      <th>1</th>\n",
       "      <td>1103</td>\n",
       "      <td>2022</td>\n",
       "      <td>2</td>\n",
       "      <td>3000</td>\n",
       "      <td>8</td>\n",
       "      <td>0</td>\n",
       "      <td>1259098aaa8e447181f13903f84e5db1OOO35</td>\n",
       "      <td>PKI</td>\n",
       "    </tr>\n",
       "    <tr>\n",
       "      <th>2</th>\n",
       "      <td>1104</td>\n",
       "      <td>2022</td>\n",
       "      <td>2</td>\n",
       "      <td>3000</td>\n",
       "      <td>14</td>\n",
       "      <td>0</td>\n",
       "      <td>1259098aaa8e447181f13903f84e5db1OOO35</td>\n",
       "      <td>PKI</td>\n",
       "    </tr>\n",
       "    <tr>\n",
       "      <th>3</th>\n",
       "      <td>1105</td>\n",
       "      <td>2022</td>\n",
       "      <td>2</td>\n",
       "      <td>3000</td>\n",
       "      <td>25</td>\n",
       "      <td>0</td>\n",
       "      <td>1259098aaa8e447181f13903f84e5db1OOO35</td>\n",
       "      <td>PKI</td>\n",
       "    </tr>\n",
       "    <tr>\n",
       "      <th>4</th>\n",
       "      <td>1109</td>\n",
       "      <td>2022</td>\n",
       "      <td>2</td>\n",
       "      <td>3000</td>\n",
       "      <td>15</td>\n",
       "      <td>0</td>\n",
       "      <td>1259098aaa8e447181f13903f84e5db1OOO35</td>\n",
       "      <td>PKI</td>\n",
       "    </tr>\n",
       "    <tr>\n",
       "      <th>...</th>\n",
       "      <td>...</td>\n",
       "      <td>...</td>\n",
       "      <td>...</td>\n",
       "      <td>...</td>\n",
       "      <td>...</td>\n",
       "      <td>...</td>\n",
       "      <td>...</td>\n",
       "      <td>...</td>\n",
       "    </tr>\n",
       "    <tr>\n",
       "      <th>4008616</th>\n",
       "      <td>1226</td>\n",
       "      <td>2022</td>\n",
       "      <td>12</td>\n",
       "      <td>3000</td>\n",
       "      <td>20</td>\n",
       "      <td>-36720</td>\n",
       "      <td>2c219c04139c429a90efee1f42e6ef80TRG36</td>\n",
       "      <td>PKI</td>\n",
       "    </tr>\n",
       "    <tr>\n",
       "      <th>4008617</th>\n",
       "      <td>1401</td>\n",
       "      <td>2022</td>\n",
       "      <td>12</td>\n",
       "      <td>3000</td>\n",
       "      <td>3</td>\n",
       "      <td>0</td>\n",
       "      <td>2c219c04139c429a90efee1f42e6ef80TRG36</td>\n",
       "      <td>PKI</td>\n",
       "    </tr>\n",
       "    <tr>\n",
       "      <th>4008618</th>\n",
       "      <td>1226</td>\n",
       "      <td>2022</td>\n",
       "      <td>12</td>\n",
       "      <td>3000</td>\n",
       "      <td>17</td>\n",
       "      <td>-36720</td>\n",
       "      <td>b05ff266ddd0443499442b0d75e7cef7TRG37</td>\n",
       "      <td>PKI</td>\n",
       "    </tr>\n",
       "    <tr>\n",
       "      <th>4008619</th>\n",
       "      <td>1401</td>\n",
       "      <td>2022</td>\n",
       "      <td>12</td>\n",
       "      <td>3000</td>\n",
       "      <td>3</td>\n",
       "      <td>0</td>\n",
       "      <td>84d42100bbee4b4e84afb23e0038a955TRG36</td>\n",
       "      <td>PKI</td>\n",
       "    </tr>\n",
       "    <tr>\n",
       "      <th>4008620</th>\n",
       "      <td>1401</td>\n",
       "      <td>2022</td>\n",
       "      <td>12</td>\n",
       "      <td>3000</td>\n",
       "      <td>3</td>\n",
       "      <td>0</td>\n",
       "      <td>c201158491e14e668b9fa898a6954bb4TRG37</td>\n",
       "      <td>PKI</td>\n",
       "    </tr>\n",
       "  </tbody>\n",
       "</table>\n",
       "<p>4008621 rows × 8 columns</p>\n",
       "</div>"
      ],
      "text/plain": [
       "         plant  year  month  sloc  quantity  total_amount   \n",
       "0         1101  2022      2  3000        17         17000  \\\n",
       "1         1103  2022      2  3000         8             0   \n",
       "2         1104  2022      2  3000        14             0   \n",
       "3         1105  2022      2  3000        25             0   \n",
       "4         1109  2022      2  3000        15             0   \n",
       "...        ...   ...    ...   ...       ...           ...   \n",
       "4008616   1226  2022     12  3000        20        -36720   \n",
       "4008617   1401  2022     12  3000         3             0   \n",
       "4008618   1226  2022     12  3000        17        -36720   \n",
       "4008619   1401  2022     12  3000         3             0   \n",
       "4008620   1401  2022     12  3000         3             0   \n",
       "\n",
       "                                    product_id product_group  \n",
       "0        1259098aaa8e447181f13903f84e5db1OOO35           PKI  \n",
       "1        1259098aaa8e447181f13903f84e5db1OOO35           PKI  \n",
       "2        1259098aaa8e447181f13903f84e5db1OOO35           PKI  \n",
       "3        1259098aaa8e447181f13903f84e5db1OOO35           PKI  \n",
       "4        1259098aaa8e447181f13903f84e5db1OOO35           PKI  \n",
       "...                                        ...           ...  \n",
       "4008616  2c219c04139c429a90efee1f42e6ef80TRG36           PKI  \n",
       "4008617  2c219c04139c429a90efee1f42e6ef80TRG36           PKI  \n",
       "4008618  b05ff266ddd0443499442b0d75e7cef7TRG37           PKI  \n",
       "4008619  84d42100bbee4b4e84afb23e0038a955TRG36           PKI  \n",
       "4008620  c201158491e14e668b9fa898a6954bb4TRG37           PKI  \n",
       "\n",
       "[4008621 rows x 8 columns]"
      ]
     },
     "execution_count": 14,
     "metadata": {},
     "output_type": "execute_result"
    }
   ],
   "source": [
    "merged_df = pd.merge(inventories_df, product_group_id, on='product_id', how='inner')\n",
    "merged_df"
   ]
  },
  {
   "cell_type": "code",
   "execution_count": 15,
   "metadata": {},
   "outputs": [
    {
     "data": {
      "image/png": "[encoded data removed]",
      "text/plain": [
       "<Figure size 640x480 with 1 Axes>"
      ]
     },
     "metadata": {},
     "output_type": "display_data"
    }
   ],
   "source": [
    "merged_df.groupby('product_group')['quantity'].sum().plot(kind='bar')\n",
    "plt.xlabel('Product Group')\n",
    "plt.ylabel('Quantity')\n",
    "plt.title('Quantity by Product Group')\n",
    "plt.show()"
   ]
  },
  {
   "cell_type": "code",
   "execution_count": 16,
   "metadata": {},
   "outputs": [
    {
     "data": {
      "image/png": "[encoded data removed]",
      "text/plain": [
       "<Figure size 640x480 with 1 Axes>"
      ]
     },
     "metadata": {},
     "output_type": "display_data"
    }
   ],
   "source": [
    "merged_df.groupby('product_group')['total_amount'].sum().plot(kind='bar')\n",
    "plt.xlabel('Product Group')\n",
    "plt.ylabel('Total Amount')\n",
    "plt.title('Quantity by Total Amount')\n",
    "plt.show()"
   ]
  },
  {
   "cell_type": "code",
   "execution_count": 17,
   "metadata": {},
   "outputs": [
    {
     "data": {
      "text/plain": [
       "array(['PKI'], dtype=object)"
      ]
     },
     "execution_count": 17,
     "metadata": {},
     "output_type": "execute_result"
    }
   ],
   "source": [
    "top_product = merged_df.groupby('product_id')['quantity'].sum().sort_values(ascending=False).head(5)\n",
    "top_product = merged_df.loc[merged_df['product_id'].isin(top_product.index)]\n",
    "top_product['product_group'].unique()"
   ]
  }
 ],
 "metadata": {
  "kernelspec": {
   "display_name": "Python 3",
   "language": "python",
   "name": "python3"
  },
  "language_info": {
   "codemirror_mode": {
    "name": "ipython",
    "version": 3
   },
   "file_extension": ".py",
   "mimetype": "text/x-python",
   "name": "python",
   "nbconvert_exporter": "python",
   "pygments_lexer": "ipython3",
   "version": "3.9.4"
  }
 },
 "nbformat": 4,
 "nbformat_minor": 2
}
